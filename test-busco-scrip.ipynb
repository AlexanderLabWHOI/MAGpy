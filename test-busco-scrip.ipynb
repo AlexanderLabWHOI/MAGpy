{
 "cells": [
  {
   "cell_type": "code",
   "execution_count": 1,
   "metadata": {},
   "outputs": [],
   "source": [
    "import pandas as pd\n",
    "import glob\n",
    "import os"
   ]
  },
  {
   "cell_type": "code",
   "execution_count": 2,
   "metadata": {},
   "outputs": [],
   "source": [
    "outdf = pd.DataFrame(columns = ['Complete', 'Duplicated', 'Fragmented', 'Missing'])\n",
    "\n",
    "for n, tab in enumerate(glob.glob(\"busco/euk/*/full_table*\")):\n",
    "    name = os.path.basename(tab).replace('full_table_', '').replace('.tsv', '')\n",
    "    df = pd.read_csv(tab, sep='\\t', header=4)\n",
    "    gp = df.groupby('Status').count().iloc[:,0]\n",
    "    outdf.loc[name]=gp\n",
    "outdf = outdf.fillna(0)\n",
    "outdf['Complete_Single']=outdf.Complete -outdf.Duplicated\n",
    "outdf['Complete_Duplciated']=outdf.Duplicated\n",
    "outdf = outdf.drop('Duplicated', axis=1)\n"
   ]
  },
  {
   "cell_type": "code",
   "execution_count": 5,
   "metadata": {},
   "outputs": [],
   "source": [
    "outdf.to_csv('outtest.txt', sep='\\t')"
   ]
  },
  {
   "cell_type": "code",
   "execution_count": null,
   "metadata": {},
   "outputs": [],
   "source": []
  }
 ],
 "metadata": {
  "kernelspec": {
   "display_name": "Python (sourmash-mag-euk)",
   "language": "python",
   "name": "sourmash-mag-euk"
  },
  "language_info": {
   "codemirror_mode": {
    "name": "ipython",
    "version": 3
   },
   "file_extension": ".py",
   "mimetype": "text/x-python",
   "name": "python",
   "nbconvert_exporter": "python",
   "pygments_lexer": "ipython3",
   "version": "3.6.8"
  }
 },
 "nbformat": 4,
 "nbformat_minor": 2
}
